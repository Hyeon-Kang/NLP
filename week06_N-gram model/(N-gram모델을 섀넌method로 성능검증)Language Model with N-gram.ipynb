{
 "cells": [
  {
   "cell_type": "code",
   "execution_count": 1,
   "metadata": {},
   "outputs": [
    {
     "name": "stderr",
     "output_type": "stream",
     "text": [
      "[nltk_data] Downloading package reuters to\n",
      "[nltk_data]     C:\\Users\\Hyeon\\AppData\\Roaming\\nltk_data...\n",
      "[nltk_data]   Package reuters is already up-to-date!\n",
      "[nltk_data] Downloading package punkt to\n",
      "[nltk_data]     C:\\Users\\Hyeon\\AppData\\Roaming\\nltk_data...\n",
      "[nltk_data]   Unzipping tokenizers\\punkt.zip.\n"
     ]
    },
    {
     "data": {
      "text/plain": [
       "True"
      ]
     },
     "execution_count": 1,
     "metadata": {},
     "output_type": "execute_result"
    }
   ],
   "source": [
    "import nltk\n",
    "nltk.download('reuters')\n",
    "nltk.download('punkt')"
   ]
  },
  {
   "cell_type": "code",
   "execution_count": 3,
   "metadata": {},
   "outputs": [
    {
     "name": "stdout",
     "output_type": "stream",
     "text": [
      "[('.', 94687), (',', 72360), ('the', 58251), ('of', 35979), ('to', 34035), ('in', 26478), ('said', 25224), ('and', 25043), ('a', 23492), ('mln', 18037), ('vs', 14120), ('-', 13705), ('for', 12785), ('dlrs', 11730), (\"'\", 11272), ('The', 10968), ('000', 10277), ('1', 9977), ('s', 9298), ('pct', 9093)]\n",
      "1.0000000000006808\n"
     ]
    }
   ],
   "source": [
    "# Step 1 : Bag of words\n",
    "from nltk.corpus import reuters\n",
    "from collections import Counter, defaultdict\n",
    "\n",
    "counts = Counter(reuters.words())\n",
    "total_count = len(reuters.words())\n",
    "\n",
    "# 공통적으로 가장 많이 나타나는 20개의 단어\n",
    "print(counts.most_common(n=20))\n",
    "\n",
    "# 빈도 비율 계산\n",
    "for word in counts:\n",
    "    counts[word] /= float(total_count)\n",
    "\n",
    "    # 빈도 비율의 총합 계산\n",
    "print(sum(counts.values()))"
   ]
  },
  {
   "cell_type": "code",
   "execution_count": 4,
   "metadata": {},
   "outputs": [
    {
     "name": "stdout",
     "output_type": "stream",
     "text": [
      ", immune foreign noted investing interests central apparent . 800 from the industry CORP 126 Ltd Corp a which thirds , said foreign FOR stand 7 U , meeting kilo said . highly Japan -- reported seasonally probably . dlrs O the have guilders of other >, ultimately , informing 1987 GM > a , 95 of its . . . and gains loss QTR is can 3 23 QTR . Financial A new Total bank will April when will . . an valued , would , the dlrs Six Travel 9 international PAK plus unless shifting > . .\n"
     ]
    }
   ],
   "source": [
    "import random\n",
    "#100개의 단어 생성(임의로 구성, 규칙적 아님)\n",
    "text = []\n",
    "\n",
    "for _ in range(100):\n",
    "    r= random.random() # 임의의 단어를 뽑기 위한 임의의 이산값\n",
    "    accumulator = .0\n",
    "    \n",
    "    for word, freq in counts.items():  # 해당 단어가 나온 비율이 높으면 accumulator에 추가?\n",
    "        accumulator += freq\n",
    "        \n",
    "        if accumulator >= r: # 빈도(freq)가 임의의 값보다 높으면 text에 추가 -> 랜덤 단어로 구성된 문장 생성\n",
    "            text.append(word)\n",
    "            break\n",
    "            \n",
    "print(' '.join(text))"
   ]
  },
  {
   "cell_type": "code",
   "execution_count": 5,
   "metadata": {},
   "outputs": [
    {
     "name": "stdout",
     "output_type": "stream",
     "text": [
      "1.57588941009163e-293\n"
     ]
    }
   ],
   "source": [
    "# 텍스트의 확률 계산\n",
    "from operator import mul\n",
    "from functools import reduce\n",
    "\n",
    "print(reduce(mul, [counts[w] for w in text], 1.0))"
   ]
  },
  {
   "cell_type": "code",
   "execution_count": 6,
   "metadata": {},
   "outputs": [
    {
     "name": "stdout",
     "output_type": "stream",
     "text": [
      "['ASIAN', 'EXPORTERS', 'FEAR', 'DAMAGE', 'FROM', 'U', '.', 'S', '.-', 'JAPAN', 'RIFT', 'Mounting', 'trade', 'friction', 'between', 'the', 'U', '.', 'S', '.', 'And', 'Japan', 'has', 'raised', 'fears', 'among', 'many', 'of', 'Asia', \"'\", 's', 'exporting', 'nations', 'that', 'the', 'row', 'could', 'inflict', 'far', '-', 'reaching', 'economic', 'damage', ',', 'businessmen', 'and', 'officials', 'said', '.']\n"
     ]
    }
   ],
   "source": [
    "# Step 2 : Bi-gram & Tri-gram\n",
    "from nltk import bigrams, trigrams\n",
    "\n",
    "first_sentence = reuters.sents()[0]\n",
    "print(first_sentence)"
   ]
  },
  {
   "cell_type": "code",
   "execution_count": 7,
   "metadata": {},
   "outputs": [
    {
     "name": "stdout",
     "output_type": "stream",
     "text": [
      "\n",
      "----- Bi-gram 결과 확인 -----\n",
      "[('ASIAN', 'EXPORTERS'), ('EXPORTERS', 'FEAR'), ('FEAR', 'DAMAGE'), ('DAMAGE', 'FROM'), ('FROM', 'U'), ('U', '.'), ('.', 'S'), ('S', '.-'), ('.-', 'JAPAN'), ('JAPAN', 'RIFT'), ('RIFT', 'Mounting'), ('Mounting', 'trade'), ('trade', 'friction'), ('friction', 'between'), ('between', 'the'), ('the', 'U'), ('U', '.'), ('.', 'S'), ('S', '.'), ('.', 'And'), ('And', 'Japan'), ('Japan', 'has'), ('has', 'raised'), ('raised', 'fears'), ('fears', 'among'), ('among', 'many'), ('many', 'of'), ('of', 'Asia'), ('Asia', \"'\"), (\"'\", 's'), ('s', 'exporting'), ('exporting', 'nations'), ('nations', 'that'), ('that', 'the'), ('the', 'row'), ('row', 'could'), ('could', 'inflict'), ('inflict', 'far'), ('far', '-'), ('-', 'reaching'), ('reaching', 'economic'), ('economic', 'damage'), ('damage', ','), (',', 'businessmen'), ('businessmen', 'and'), ('and', 'officials'), ('officials', 'said'), ('said', '.')]\n",
      "\n",
      " ----- 패딩된 Bi-gram 결과 확인 -----\n",
      "[(None, 'ASIAN'), ('ASIAN', 'EXPORTERS'), ('EXPORTERS', 'FEAR'), ('FEAR', 'DAMAGE'), ('DAMAGE', 'FROM'), ('FROM', 'U'), ('U', '.'), ('.', 'S'), ('S', '.-'), ('.-', 'JAPAN'), ('JAPAN', 'RIFT'), ('RIFT', 'Mounting'), ('Mounting', 'trade'), ('trade', 'friction'), ('friction', 'between'), ('between', 'the'), ('the', 'U'), ('U', '.'), ('.', 'S'), ('S', '.'), ('.', 'And'), ('And', 'Japan'), ('Japan', 'has'), ('has', 'raised'), ('raised', 'fears'), ('fears', 'among'), ('among', 'many'), ('many', 'of'), ('of', 'Asia'), ('Asia', \"'\"), (\"'\", 's'), ('s', 'exporting'), ('exporting', 'nations'), ('nations', 'that'), ('that', 'the'), ('the', 'row'), ('row', 'could'), ('could', 'inflict'), ('inflict', 'far'), ('far', '-'), ('-', 'reaching'), ('reaching', 'economic'), ('economic', 'damage'), ('damage', ','), (',', 'businessmen'), ('businessmen', 'and'), ('and', 'officials'), ('officials', 'said'), ('said', '.'), ('.', None)]\n"
     ]
    }
   ],
   "source": [
    "### Bi-gram 겨로가 확인\n",
    "print('\\n----- Bi-gram 결과 확인 -----')\n",
    "print(list(bigrams(first_sentence)))\n",
    "\n",
    "# 패딩된 Bi-gram 결과 확인\n",
    "print('\\n ----- 패딩된 Bi-gram 결과 확인 -----')\n",
    "print(list(bigrams(first_sentence, pad_left=True, pad_right=True)))"
   ]
  },
  {
   "cell_type": "code",
   "execution_count": 9,
   "metadata": {},
   "outputs": [
    {
     "name": "stdout",
     "output_type": "stream",
     "text": [
      "\n",
      " ----- Tri-gram 결과 확인 -----\n",
      "[('ASIAN', 'EXPORTERS', 'FEAR'), ('EXPORTERS', 'FEAR', 'DAMAGE'), ('FEAR', 'DAMAGE', 'FROM'), ('DAMAGE', 'FROM', 'U'), ('FROM', 'U', '.'), ('U', '.', 'S'), ('.', 'S', '.-'), ('S', '.-', 'JAPAN'), ('.-', 'JAPAN', 'RIFT'), ('JAPAN', 'RIFT', 'Mounting'), ('RIFT', 'Mounting', 'trade'), ('Mounting', 'trade', 'friction'), ('trade', 'friction', 'between'), ('friction', 'between', 'the'), ('between', 'the', 'U'), ('the', 'U', '.'), ('U', '.', 'S'), ('.', 'S', '.'), ('S', '.', 'And'), ('.', 'And', 'Japan'), ('And', 'Japan', 'has'), ('Japan', 'has', 'raised'), ('has', 'raised', 'fears'), ('raised', 'fears', 'among'), ('fears', 'among', 'many'), ('among', 'many', 'of'), ('many', 'of', 'Asia'), ('of', 'Asia', \"'\"), ('Asia', \"'\", 's'), (\"'\", 's', 'exporting'), ('s', 'exporting', 'nations'), ('exporting', 'nations', 'that'), ('nations', 'that', 'the'), ('that', 'the', 'row'), ('the', 'row', 'could'), ('row', 'could', 'inflict'), ('could', 'inflict', 'far'), ('inflict', 'far', '-'), ('far', '-', 'reaching'), ('-', 'reaching', 'economic'), ('reaching', 'economic', 'damage'), ('economic', 'damage', ','), ('damage', ',', 'businessmen'), (',', 'businessmen', 'and'), ('businessmen', 'and', 'officials'), ('and', 'officials', 'said'), ('officials', 'said', '.')]\n",
      "\n",
      " ----- 패딩된 Tri-gram 결과 확인 -----\n",
      "[(None, None, 'ASIAN'), (None, 'ASIAN', 'EXPORTERS'), ('ASIAN', 'EXPORTERS', 'FEAR'), ('EXPORTERS', 'FEAR', 'DAMAGE'), ('FEAR', 'DAMAGE', 'FROM'), ('DAMAGE', 'FROM', 'U'), ('FROM', 'U', '.'), ('U', '.', 'S'), ('.', 'S', '.-'), ('S', '.-', 'JAPAN'), ('.-', 'JAPAN', 'RIFT'), ('JAPAN', 'RIFT', 'Mounting'), ('RIFT', 'Mounting', 'trade'), ('Mounting', 'trade', 'friction'), ('trade', 'friction', 'between'), ('friction', 'between', 'the'), ('between', 'the', 'U'), ('the', 'U', '.'), ('U', '.', 'S'), ('.', 'S', '.'), ('S', '.', 'And'), ('.', 'And', 'Japan'), ('And', 'Japan', 'has'), ('Japan', 'has', 'raised'), ('has', 'raised', 'fears'), ('raised', 'fears', 'among'), ('fears', 'among', 'many'), ('among', 'many', 'of'), ('many', 'of', 'Asia'), ('of', 'Asia', \"'\"), ('Asia', \"'\", 's'), (\"'\", 's', 'exporting'), ('s', 'exporting', 'nations'), ('exporting', 'nations', 'that'), ('nations', 'that', 'the'), ('that', 'the', 'row'), ('the', 'row', 'could'), ('row', 'could', 'inflict'), ('could', 'inflict', 'far'), ('inflict', 'far', '-'), ('far', '-', 'reaching'), ('-', 'reaching', 'economic'), ('reaching', 'economic', 'damage'), ('economic', 'damage', ','), ('damage', ',', 'businessmen'), (',', 'businessmen', 'and'), ('businessmen', 'and', 'officials'), ('and', 'officials', 'said'), ('officials', 'said', '.'), ('said', '.', None), ('.', None, None)]\n"
     ]
    }
   ],
   "source": [
    "# Tri-gram 결과 확인\n",
    "print('\\n ----- Tri-gram 결과 확인 -----')\n",
    "print(list(trigrams(first_sentence)))\n",
    "\n",
    "# 패딩된 Tri-gram 결과 확인\n",
    "print('\\n ----- 패딩된 Tri-gram 결과 확인 -----')\n",
    "print(list(trigrams(first_sentence, pad_left=True, pad_right=True)))"
   ]
  },
  {
   "cell_type": "code",
   "execution_count": 11,
   "metadata": {},
   "outputs": [
    {
     "name": "stdout",
     "output_type": "stream",
     "text": [
      "\n",
      " ----- Tri-gram 모델 생성 -----\n",
      "2\n"
     ]
    }
   ],
   "source": [
    "### Reuters 데이터(말뭉치)를 이용한 Tri-gram 모델 생성\n",
    "print('\\n ----- Tri-gram 모델 생성 -----')\n",
    "model = defaultdict(lambda : defaultdict(lambda : 0))\n",
    "\n",
    "for sentence in reuters.sents():\n",
    "    for w1, w2, w3 in trigrams(sentence, pad_right = True, pad_left = True):\n",
    "        model[(w1, w2)][w3] += 1\n",
    "        \n",
    "print(model['what', 'the']['economists'])"
   ]
  },
  {
   "cell_type": "code",
   "execution_count": 12,
   "metadata": {},
   "outputs": [
    {
     "name": "stdout",
     "output_type": "stream",
     "text": [
      "0.043478260869565216\n"
     ]
    }
   ],
   "source": [
    "# 확률 결과를 얻기 위해 counts를 변환\n",
    "for w1_w2 in model:\n",
    "    total_count = float(sum(model[w1_w2].values()))\n",
    "    \n",
    "    for w3 in model[w1_w2]:\n",
    "        model[w1_w2][w3] /= total_count\n",
    "        \n",
    "print(model['what', 'the']['economists'])"
   ]
  },
  {
   "cell_type": "code",
   "execution_count": 16,
   "metadata": {},
   "outputs": [
    {
     "name": "stdout",
     "output_type": "stream",
     "text": [
      "\n",
      " ----- 언어 모델을 이용해 텍스트 생성하기 -----\n",
      "텍스트의 확률 :  1.51093304494128e-12\n",
      "문장 :  Bilzerian said he fears that the financial futures room , Sladoje said .\n",
      "tri-grams :  [None, None, 'Bilzerian', 'said', 'he', 'fears', 'that', 'the', 'financial', 'futures', 'room', ',', 'Sladoje', 'said', '.', None, None]\n"
     ]
    }
   ],
   "source": [
    "### Language Model을 이용해 텍스트 생성하기\n",
    "print('\\n ----- 언어 모델을 이용해 텍스트 생성하기 -----')\n",
    "import random\n",
    "\n",
    "text = [None, None]\n",
    "prob = 1.0\n",
    "\n",
    "sentence_finished = False\n",
    "\n",
    "while not sentence_finished:\n",
    "    r = random.random()\n",
    "    accumulator = .0\n",
    "    \n",
    "    for word in model[tuple(text[-2:])].keys():\n",
    "        accumulator += model[tuple(text[-2:])][word]\n",
    "        \n",
    "        if accumulator >= r:\n",
    "            prob *= model[tuple(text[-2:])][word]\n",
    "            text.append(word)\n",
    "            #if len(text) == 3:\n",
    "            \n",
    "            break\n",
    "        \n",
    "    if text[-2:] == [None, None]:\n",
    "        sentence_finished = True\n",
    "        \n",
    "print('텍스트의 확률 : ', prob)\n",
    "print('문장 : ', ' '.join([t for t in text if t]))\n",
    "print('tri-grams : ', text)"
   ]
  },
  {
   "cell_type": "code",
   "execution_count": null,
   "metadata": {},
   "outputs": [],
   "source": []
  }
 ],
 "metadata": {
  "kernelspec": {
   "display_name": "Python 3",
   "language": "python",
   "name": "python3"
  },
  "language_info": {
   "codemirror_mode": {
    "name": "ipython",
    "version": 3
   },
   "file_extension": ".py",
   "mimetype": "text/x-python",
   "name": "python",
   "nbconvert_exporter": "python",
   "pygments_lexer": "ipython3",
   "version": "3.6.8"
  }
 },
 "nbformat": 4,
 "nbformat_minor": 4
}
