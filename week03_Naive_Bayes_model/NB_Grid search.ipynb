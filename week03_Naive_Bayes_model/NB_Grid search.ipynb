{
  "nbformat": 4,
  "nbformat_minor": 0,
  "metadata": {
    "kernelspec": {
      "display_name": "Python 3",
      "language": "python",
      "name": "python3"
    },
    "language_info": {
      "codemirror_mode": {
        "name": "ipython",
        "version": 3
      },
      "file_extension": ".py",
      "mimetype": "text/x-python",
      "name": "python",
      "nbconvert_exporter": "python",
      "pygments_lexer": "ipython3",
      "version": "3.6.8"
    },
    "colab": {
      "name": "NB_Grid search.ipynb",
      "provenance": [],
      "include_colab_link": true
    }
  },
  "cells": [
    {
      "cell_type": "markdown",
      "metadata": {
        "id": "view-in-github",
        "colab_type": "text"
      },
      "source": [
        "<a href=\"https://colab.research.google.com/github/Hyeon-Kang/NLP/blob/master/week03_Naive_Bayes_model/NB_Grid%20search.ipynb\" target=\"_parent\"><img src=\"https://colab.research.google.com/assets/colab-badge.svg\" alt=\"Open In Colab\"/></a>"
      ]
    },
    {
      "cell_type": "code",
      "metadata": {
        "id": "wSlLBmJis2FM",
        "colab_type": "code",
        "colab": {}
      },
      "source": [
        "# 20개의 뉴스 분야 카테고리를 얼마나 잘 분류하는가?\n",
        "\n",
        "from sklearn.datasets import fetch_20newsgroups\n",
        "\n",
        "twenty_train = fetch_20newsgroups(subset = 'train', shuffle=True)"
      ],
      "execution_count": 0,
      "outputs": []
    },
    {
      "cell_type": "code",
      "metadata": {
        "id": "XZwSusfBs2FQ",
        "colab_type": "code",
        "colab": {},
        "outputId": "5f7a458b-ea6d-4363-b3f7-c9b61d73e01a"
      },
      "source": [
        "from sklearn.feature_extraction.text import CountVectorizer\n",
        "\n",
        "# 문서 집합에서 단어토큰 생성, 각 단어의 수를 세어 bag of word(순서 상관없음)로 인코딩한 벡터로 만들어줌\n",
        "\n",
        "count_vect = CountVectorizer() # 추출한 단어마다 고유 인덱스를 부여하여 벡터로 표현함\n",
        "X_train_counts = count_vect.fit_transform(twenty_train.data) \n",
        "print('Count Vector : ', X_train_counts.shape) # 출력 : (문서 개수, 단어 개수)"
      ],
      "execution_count": 0,
      "outputs": [
        {
          "output_type": "stream",
          "text": [
            "Count Vector :  (11314, 130107)\n"
          ],
          "name": "stdout"
        }
      ]
    },
    {
      "cell_type": "code",
      "metadata": {
        "id": "_kD2vm90s2FT",
        "colab_type": "code",
        "colab": {},
        "outputId": "682fb183-ef21-4ed3-c7e6-2202c321b839"
      },
      "source": [
        "from sklearn.feature_extraction.text import TfidfTransformer\n",
        "\n",
        "# TF : Term Frequency - 한 문서 내에서 특정 단어가 사용된 빈도\n",
        "# IDF : Inverse Document Frequency - 특정 단어가 등장하는 문서의 빈도\n",
        "# 정보 검색과 데이터 마이닝에서 이용하는 가중치\n",
        "\n",
        "tfidf_transformer = TfidfTransformer()\n",
        "X_train_tfidf = tfidf_transformer.fit_transform(X_train_counts)\n",
        "print('Tfidf : ', X_train_tfidf.shape)"
      ],
      "execution_count": 0,
      "outputs": [
        {
          "output_type": "stream",
          "text": [
            "Tfidf :  (11314, 130107)\n"
          ],
          "name": "stdout"
        }
      ]
    },
    {
      "cell_type": "code",
      "metadata": {
        "id": "g1hS1sV7s2FV",
        "colab_type": "code",
        "colab": {},
        "outputId": "77f51c88-6e94-490f-f3cc-d30561cf935c"
      },
      "source": [
        "# Naive Bayes (다항분포/분류 알고리즘)\n",
        "print(' ---- Naive Bayes algorithm ---- ') \n",
        "\n",
        "from sklearn.naive_bayes import MultinomialNB\n",
        "\n",
        "# 분류 모델에 학습데이터와 해당 분야(label)를 학습시킴\n",
        "clf = MultinomialNB().fit(X_train_tfidf, twenty_train.target)\n",
        "\n",
        "from sklearn.pipeline import Pipeline\n",
        "\n",
        "# pipeline을 통해 전처리 단계와 분류 모델을 합침\n",
        "text_clf = Pipeline([('vect', CountVectorizer()),\n",
        "                    ('tfidf', TfidfTransformer()),\n",
        "                    ('clf', MultinomialNB())])\n",
        "\n",
        "# 위에서 작성한 pipeline 모델에 입력 데이터와 출력 결과(label)을 학습\n",
        "text_clf = text_clf.fit(twenty_train.data, twenty_train.target)\n",
        "\n",
        "import numpy as np\n",
        "\n",
        "twenty_test = fetch_20newsgroups(subset = 'test', shuffle = True) \n",
        "predicted = text_clf.predict(twenty_test.data)  # 학습 모델에 test data를 집어넣어 성능 측정\n",
        "print('Accuracy : ', np.mean(predicted == twenty_test.target))\n",
        "\n",
        "\n",
        "\n"
      ],
      "execution_count": 0,
      "outputs": [
        {
          "output_type": "stream",
          "text": [
            " ---- Naive Bayes algorithm ---- \n",
            "Accuracy :  0.7738980350504514\n"
          ],
          "name": "stdout"
        }
      ]
    },
    {
      "cell_type": "code",
      "metadata": {
        "id": "H63dbiL3s2FX",
        "colab_type": "code",
        "colab": {},
        "outputId": "fd009b9c-08be-49f2-eea4-d519024091f1"
      },
      "source": [
        "# 입력한 여러 경우의 파라미터를 비교하여 최적의 파라미터를 찾는 방법\n",
        "print(' ---- Grid serach : Naive Bayes algorithm ---- ')\n",
        "\n",
        "#from sklearn.naive_bayes import MultinomialNB\n",
        "from sklearn.model_selection import GridSearchCV\n",
        "\n",
        "# 이하 입력한 범위내의 파라미터를 모두 구해보고 최적의 경우를 도출함\n",
        "parameters = {'vect__ngram_range' : [(1,1), (1,2)], #  (1,1) : 단어별 구분, (1,2) bigram 구분\n",
        "             'tfidf__use_idf' : (True, False), # Tf-Idf 사용한 경우, 사용하지 않은 경우\n",
        "             'clf__alpha' : (1e-2, 1e-3)} # 나이브베이즈 다항분류의 페널티 파라미터 값 0.01 or 0.001\n",
        "\n",
        "gs_clf = GridSearchCV(text_clf, parameters, n_jobs = -1) # -1 : 모든 cpu 사용\n",
        "gs_clf = gs_clf.fit(twenty_train.data, twenty_train.target)\n",
        "\n",
        "print('Accuracy : ', gs_clf.best_score_)\n",
        "\n",
        "# print(gs_clf.best_params_)\n",
        "# print('Accuracy : ', np.mean(predicted == twenty_test.target))"
      ],
      "execution_count": 0,
      "outputs": [
        {
          "output_type": "stream",
          "text": [
            " ---- Grid serach : Naive Bayes algorithm ---- \n"
          ],
          "name": "stdout"
        },
        {
          "output_type": "stream",
          "text": [
            "c:\\python\\venv\\tensorflow\\lib\\site-packages\\sklearn\\model_selection\\_split.py:1978: FutureWarning: The default value of cv will change from 3 to 5 in version 0.22. Specify it explicitly to silence this warning.\n",
            "  warnings.warn(CV_WARNING, FutureWarning)\n"
          ],
          "name": "stderr"
        },
        {
          "output_type": "stream",
          "text": [
            "Accuracy :  0.9067526957751458\n"
          ],
          "name": "stdout"
        }
      ]
    }
  ]
}