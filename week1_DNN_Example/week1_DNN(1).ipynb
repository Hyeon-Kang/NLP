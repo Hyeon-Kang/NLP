{
 "cells": [
  {
   "cell_type": "code",
   "execution_count": 1,
   "metadata": {},
   "outputs": [],
   "source": [
    "from sklearn.datasets import fetch_openml # Scikit-learn에서 제공하는 dataset이 모여있는 라이브러리\n",
    "from sklearn.neural_network import MLPClassifier # DNN 모델 라이브러리\n",
    "from sklearn.model_selection import train_test_split # train, test set을 구분하는 라이브러리"
   ]
  },
  {
   "cell_type": "code",
   "execution_count": 2,
   "metadata": {},
   "outputs": [
    {
     "name": "stdout",
     "output_type": "stream",
     "text": [
      "MNIST Data Downloading\n",
      "Success\n"
     ]
    }
   ],
   "source": [
    "print(\"MNIST Data Downloading\")\n",
    "X, y = fetch_openml('mnist_784', version =1, return_X_y=True) # 2개의 변수에 image, label을 따로 저장 (X : image, y : label)\n",
    "print(\"Success\")\n",
    "# fetch_openml 라이브러리에서 MNIST 28 X 28 의 픽셀을 가지는 데이터를 불러옴\n",
    "# test_size =0.2 >> train : test = 8 : 2 (하나의 데이터셋에서 학습용, 검증용 구분)\n",
    "# random_state"
   ]
  },
  {
   "cell_type": "code",
   "execution_count": 4,
   "metadata": {},
   "outputs": [],
   "source": [
    "X_train, X_test, y_train, y_test = train_test_split(X, y, test_size=0.2, random_state=17)"
   ]
  },
  {
   "cell_type": "code",
   "execution_count": 5,
   "metadata": {},
   "outputs": [],
   "source": [
    "nn = MLPClassifier(hidden_layer_sizes=(128,128,128,128), max_iter=20, solver='sgd', learning_rate_init=0.001, verbose=True)\n",
    "# 128,128,128,128 hidden layer shape, optimizer ; stochastic gradient descent\n",
    "\n",
    "# MLPClassifier : MLP 레이어 선언\n",
    "# hidden_layer_sizes : 128 > 128 > 128 > 128 > 10 레이어별 퍼셉트론 숫자\n",
    "# solver = gradient descent optimizer 알고리즘 기입 (layer의 weigh[가중치]를 적정치로 조절해주는 알고리즘)\n",
    "# learning_rate_init = 학습률\n"
   ]
  },
  {
   "cell_type": "code",
   "execution_count": 6,
   "metadata": {},
   "outputs": [
    {
     "name": "stdout",
     "output_type": "stream",
     "text": [
      "Iteration 1, loss = 1.59063646\n",
      "Iteration 2, loss = 0.29123769\n",
      "Iteration 3, loss = 0.22870065\n",
      "Iteration 4, loss = 0.19276585\n",
      "Iteration 5, loss = 0.16922680\n",
      "Iteration 6, loss = 0.15186709\n",
      "Iteration 7, loss = 0.13966624\n",
      "Iteration 8, loss = 0.12662511\n",
      "Iteration 9, loss = 0.11898957\n",
      "Iteration 10, loss = 0.11055353\n",
      "Iteration 11, loss = 0.10338225\n",
      "Iteration 12, loss = 0.09600522\n",
      "Iteration 13, loss = 0.08987328\n",
      "Iteration 14, loss = 0.08496674\n",
      "Iteration 15, loss = 0.08025797\n",
      "Iteration 16, loss = 0.07669289\n",
      "Iteration 17, loss = 0.07229216\n",
      "Iteration 18, loss = 0.06812352\n",
      "Iteration 19, loss = 0.06448708\n",
      "Iteration 20, loss = 0.06011799\n"
     ]
    },
    {
     "name": "stderr",
     "output_type": "stream",
     "text": [
      "c:\\python\\venv\\tensorflow\\lib\\site-packages\\sklearn\\neural_network\\multilayer_perceptron.py:566: ConvergenceWarning: Stochastic Optimizer: Maximum iterations (20) reached and the optimization hasn't converged yet.\n",
      "  % self.max_iter, ConvergenceWarning)\n"
     ]
    },
    {
     "data": {
      "text/plain": [
       "MLPClassifier(activation='relu', alpha=0.0001, batch_size='auto', beta_1=0.9,\n",
       "              beta_2=0.999, early_stopping=False, epsilon=1e-08,\n",
       "              hidden_layer_sizes=(128, 128, 128, 128), learning_rate='constant',\n",
       "              learning_rate_init=0.001, max_iter=20, momentum=0.9,\n",
       "              n_iter_no_change=10, nesterovs_momentum=True, power_t=0.5,\n",
       "              random_state=None, shuffle=True, solver='sgd', tol=0.0001,\n",
       "              validation_fraction=0.1, verbose=True, warm_start=False)"
      ]
     },
     "execution_count": 6,
     "metadata": {},
     "output_type": "execute_result"
    }
   ],
   "source": [
    "nn.fit(X_train, y_train)"
   ]
  },
  {
   "cell_type": "code",
   "execution_count": 7,
   "metadata": {},
   "outputs": [
    {
     "name": "stdout",
     "output_type": "stream",
     "text": [
      "Network Performance : 0.958000\n"
     ]
    }
   ],
   "source": [
    "print('Network Performance : %f'%nn.score(X_test, y_test))"
   ]
  },
  {
   "cell_type": "code",
   "execution_count": null,
   "metadata": {},
   "outputs": [],
   "source": []
  },
  {
   "cell_type": "code",
   "execution_count": null,
   "metadata": {},
   "outputs": [],
   "source": []
  }
 ],
 "metadata": {
  "kernelspec": {
   "display_name": "Python 3",
   "language": "python",
   "name": "python3"
  },
  "language_info": {
   "codemirror_mode": {
    "name": "ipython",
    "version": 3
   },
   "file_extension": ".py",
   "mimetype": "text/x-python",
   "name": "python",
   "nbconvert_exporter": "python",
   "pygments_lexer": "ipython3",
   "version": "3.6.8"
  }
 },
 "nbformat": 4,
 "nbformat_minor": 4
}
