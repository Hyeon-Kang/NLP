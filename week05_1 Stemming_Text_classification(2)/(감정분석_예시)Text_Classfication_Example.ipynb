{
  "nbformat": 4,
  "nbformat_minor": 0,
  "metadata": {
    "kernelspec": {
      "display_name": "Python 3",
      "language": "python",
      "name": "python3"
    },
    "language_info": {
      "codemirror_mode": {
        "name": "ipython",
        "version": 3
      },
      "file_extension": ".py",
      "mimetype": "text/x-python",
      "name": "python",
      "nbconvert_exporter": "python",
      "pygments_lexer": "ipython3",
      "version": "3.6.8"
    },
    "colab": {
      "name": "(감정분석_예시)Text_Classfication_Example.ipynb",
      "provenance": [],
      "include_colab_link": true
    }
  },
  "cells": [
    {
      "cell_type": "markdown",
      "metadata": {
        "id": "view-in-github",
        "colab_type": "text"
      },
      "source": [
        "<a href=\"https://colab.research.google.com/github/Hyeon-Kang/NLP/blob/master/week05_1%20Stemming_Text_classification(2)/(%EA%B0%90%EC%A0%95%EB%B6%84%EC%84%9D_%EC%98%88%EC%8B%9C)Text_Classfication_Example.ipynb\" target=\"_parent\"><img src=\"https://colab.research.google.com/assets/colab-badge.svg\" alt=\"Open In Colab\"/></a>"
      ]
    },
    {
      "cell_type": "code",
      "metadata": {
        "id": "36W_ZF03zR6c",
        "colab_type": "code",
        "colab": {}
      },
      "source": [
        "# Text classification Example"
      ],
      "execution_count": 0,
      "outputs": []
    },
    {
      "cell_type": "code",
      "metadata": {
        "id": "mEfqBPI3zR6e",
        "colab_type": "code",
        "colab": {}
      },
      "source": [
        "# Data Load\n",
        "\n",
        "import csv\n",
        "\n",
        "file = open (\"./IMDB_Dataset.csv\", \"r\", encoding='UTF-8')  # ./ 기본경로는 Script가 저장되는 장소\n",
        "rdr = csv.reader(file)\n",
        "\n",
        "sentence = []\n",
        "label = []\n",
        "\n",
        "for index, line in enumerate(rdr):\n",
        "    if index == 0:  # 첫 줄은 필요 없으므로 생략\n",
        "        continue\n",
        "    sentence.append(line[0].strip()) # sentence 리스트에 리뷰 내용 추가, strip() 함수는 문자열 양쪽의 공백 제거 (x)\n",
        "    label.append(line[1].strip())    # label 리스트에 긍정, 부정 추가 (y)"
      ],
      "execution_count": 0,
      "outputs": []
    },
    {
      "cell_type": "code",
      "metadata": {
        "id": "2BR5lN88zR6g",
        "colab_type": "code",
        "colab": {},
        "outputId": "c0c41146-39bf-4077-b4b1-3ff022eb99fa"
      },
      "source": [
        "# print data, not preprocessing\n",
        "print(sentence[0])"
      ],
      "execution_count": 0,
      "outputs": [
        {
          "output_type": "stream",
          "text": [
            "One of the other reviewers has mentioned that after watching just 1 Oz episode you'll be hooked. They are right, as this is exactly what happened with me.<br /><br />The first thing that struck me about Oz was its brutality and unflinching scenes of violence, which set in right from the word GO. Trust me, this is not a show for the faint hearted or timid. This show pulls no punches with regards to drugs, sex or violence. Its is hardcore, in the classic use of the word.<br /><br />It is called OZ as that is the nickname given to the Oswald Maximum Security State Penitentary. It focuses mainly on Emerald City, an experimental section of the prison where all the cells have glass fronts and face inwards, so privacy is not high on the agenda. Em City is home to many..Aryans, Muslims, gangstas, Latinos, Christians, Italians, Irish and more....so scuffles, death stares, dodgy dealings and shady agreements are never far away.<br /><br />I would say the main appeal of the show is due to the fact that it goes where other shows wouldn't dare. Forget pretty pictures painted for mainstream audiences, forget charm, forget romance...OZ doesn't mess around. The first episode I ever saw struck me as so nasty it was surreal, I couldn't say I was ready for it, but as I watched more, I developed a taste for Oz, and got accustomed to the high levels of graphic violence. Not just violence, but injustice (crooked guards who'll be sold out for a nickel, inmates who'll kill on order and get away with it, well mannered, middle class inmates being turned into prison bitches due to their lack of street skills or prison experience) Watching Oz, you may become comfortable with what is uncomfortable viewing....thats if you can get in touch with your darker side.\n"
          ],
          "name": "stdout"
        }
      ]
    },
    {
      "cell_type": "code",
      "metadata": {
        "id": "g3NoIFPbzR6j",
        "colab_type": "code",
        "colab": {}
      },
      "source": [
        "# re 라이브러리로 특수문자 제거\n",
        "\n",
        "import re\n",
        "\n",
        "for i in range(len(sentence)):\n",
        "    sentence[i] = sentence[i].lower() # lower() : 모든 문자를 소문자로 변환\n",
        "    sentence[i] = re.sub(\"(<br\\s*/><br\\s*/>)|(\\-)|(\\/)\", ' ', sentence[i]) # 특수문자 제거\n",
        "    sentence[i] = re.sub(\"[.;:!\\'?,\\\"()|[\\]]\", ' ', sentence[i]) # 특수문자 제거"
      ],
      "execution_count": 0,
      "outputs": []
    },
    {
      "cell_type": "code",
      "metadata": {
        "id": "zt1vj6YhzR6k",
        "colab_type": "code",
        "colab": {},
        "outputId": "c4feb704-ad20-424e-de02-6738fc261de9"
      },
      "source": [
        "# re 라이브러리로 불필요 문자 전처리 완료\n",
        "print(sentence[0])"
      ],
      "execution_count": 0,
      "outputs": [
        {
          "output_type": "stream",
          "text": [
            "one of the other reviewers has mentioned that after watching just 1 oz episode you ll be hooked  they are right  as this is exactly what happened with me  the first thing that struck me about oz was its brutality and unflinching scenes of violence  which set in right from the word go  trust me  this is not a show for the faint hearted or timid  this show pulls no punches with regards to drugs  sex or violence  its is hardcore  in the classic use of the word  it is called oz as that is the nickname given to the oswald maximum security state penitentary  it focuses mainly on emerald city  an experimental section of the prison where all the cells have glass fronts and face inwards  so privacy is not high on the agenda  em city is home to many  aryans  muslims  gangstas  latinos  christians  italians  irish and more    so scuffles  death stares  dodgy dealings and shady agreements are never far away  i would say the main appeal of the show is due to the fact that it goes where other shows wouldn t dare  forget pretty pictures painted for mainstream audiences  forget charm  forget romance   oz doesn t mess around  the first episode i ever saw struck me as so nasty it was surreal  i couldn t say i was ready for it  but as i watched more  i developed a taste for oz  and got accustomed to the high levels of graphic violence  not just violence  but injustice  crooked guards who ll be sold out for a nickel  inmates who ll kill on order and get away with it  well mannered  middle class inmates being turned into prison bitches due to their lack of street skills or prison experience  watching oz  you may become comfortable with what is uncomfortable viewing    thats if you can get in touch with your darker side \n"
          ],
          "name": "stdout"
        }
      ]
    },
    {
      "cell_type": "code",
      "metadata": {
        "id": "OtZuZlBnzR6m",
        "colab_type": "code",
        "colab": {}
      },
      "source": [
        "# split data\n",
        "\n",
        "# 학습 데이터에 40000 할당 (총 50000)\n",
        "reviews_train_clean = sentence[:40000]    # 0 ~ 40000\n",
        "train_y = label[:40000]                   \n",
        "\n",
        "# 나머지 10000은 검증 데이터 할당\n",
        "reviews_test_clean = sentence[40000:]     # 40000 ~ 50000\n",
        "test_y = label[40000:]\n",
        "\n"
      ],
      "execution_count": 0,
      "outputs": []
    },
    {
      "cell_type": "code",
      "metadata": {
        "id": "2hE1vnbXzR6o",
        "colab_type": "code",
        "colab": {}
      },
      "source": [
        "# CountVectorizer : 문서 집합에서 단어 토큰을 생성, 각 단어의 수를 세어 bag of words로 인코딩한 벡터 생성(단어 빈도 수 측정)\n",
        "\n",
        "from sklearn.feature_extraction.text import CountVectorizer\n",
        "\n",
        "cv = CountVectorizer(binary=True) # 성능 개선을 위한 binary 이진분류 옵션 추가, 각 단어의 수를 세어 bag of words 벡터로 인코딩\n",
        "cv.fit(reviews_train_clean)\n",
        "X = cv.transform(reviews_train_clean)\n",
        "X_test = cv.transform(reviews_test_clean)\n",
        "\n",
        "# Train 데이터와 test 데이터를 모두 One-hot 인코딩"
      ],
      "execution_count": 0,
      "outputs": []
    },
    {
      "cell_type": "code",
      "metadata": {
        "id": "yisZZ6fQzR6q",
        "colab_type": "code",
        "colab": {},
        "outputId": "136bd4f4-fc29-4ec4-f2fa-1f45407e511d"
      },
      "source": [
        "# LogistiRegression 회귀분석을 이용한 최적의 파라미터 찾기\n",
        "# 기본적으로 이항분포 규칙을 따름. 모델의 예측값이 0.5 미만이면 0, 0.5 이상이면 1\n",
        "from sklearn.linear_model import LogisticRegression\n",
        "from sklearn.metrics import accuracy_score\n",
        "from sklearn.model_selection import train_test_split\n",
        "\n",
        "# X_train과 X_validation을 0.75 : 0.25로 나뉘어준다.\n",
        "X_train, X_val, y_train, y_val = train_test_split(X, train_y, test_size = 0.25, random_state = 17)\n",
        "\n",
        "for c in[0.01, 0.05, 0.25, 0.5, 1]:\n",
        "    \n",
        "    lr = LogisticRegression(C = c)  # 학습에 필요한 최적값 c 찾기\n",
        "    lr.fit(X_train, y_train)\n",
        "    print(\"C = \", c,\", Accuracy :\", accuracy_score(y_val, lr.predict(X_val))) # C 값의 변화에 따른 정확도 출력"
      ],
      "execution_count": 0,
      "outputs": [
        {
          "output_type": "stream",
          "text": [
            "C =  0.01 , Accuracy : 0.8809\n",
            "C =  0.05 , Accuracy : 0.8872\n",
            "C =  0.25 , Accuracy : 0.8861\n",
            "C =  0.5 , Accuracy : 0.8845\n",
            "C =  1 , Accuracy : 0.8823\n"
          ],
          "name": "stdout"
        }
      ]
    },
    {
      "cell_type": "code",
      "metadata": {
        "id": "J8Ca5yzYzR6s",
        "colab_type": "code",
        "colab": {},
        "outputId": "571d4529-b112-4dc0-dbb4-1d4dda6dcdc3"
      },
      "source": [
        "final_model = LogisticRegression(C=0.05)\n",
        "final_model.fit(X_train, y_train) # 찾은 최적의 파라미터로 다시 학습\n",
        "\n",
        "print(\"Final Accuracy : \", accuracy_score(test_y, final_model.predict(X_test)))"
      ],
      "execution_count": 0,
      "outputs": [
        {
          "output_type": "stream",
          "text": [
            "Final Accuracy :  0.8884\n"
          ],
          "name": "stdout"
        }
      ]
    },
    {
      "cell_type": "code",
      "metadata": {
        "id": "XikGtB_XzR6u",
        "colab_type": "code",
        "colab": {}
      },
      "source": [
        "reviews_new = ['This movie was excellent', 'absolute joy ride',\n",
        "              'Steven Seagal was terrible', 'Steven Seagal shined through.',\n",
        "              'this was certainly a movie', 'Two thumbs up', 'I fell asleep halfway through',\n",
        "              \"We can't wait for the sequel!!\", 'I can recommend this highly enough',\n",
        "              'instant classic.', 'Steven Seagal was amazing. His perfomance was Oscar-worthy.',\n",
        "              'I love it']\n",
        "\n",
        "reviews_new_counts = cv.transform(reviews_new) # CountVectorize로 One-hot 인코딩"
      ],
      "execution_count": 0,
      "outputs": []
    },
    {
      "cell_type": "code",
      "metadata": {
        "id": "yx6s9JxHzR6w",
        "colab_type": "code",
        "colab": {},
        "outputId": "314ef746-f487-461b-a488-3b99e7e3bb1a"
      },
      "source": [
        "pred = final_model.predict(reviews_new_counts)\n",
        "\n",
        "for review, category in zip(reviews_new,pred):\n",
        "    print(review,\" -> \", category)"
      ],
      "execution_count": 0,
      "outputs": [
        {
          "output_type": "stream",
          "text": [
            "This movie was excellent  ->  positive\n",
            "absolute joy ride  ->  positive\n",
            "Steven Seagal was terrible  ->  negative\n",
            "Steven Seagal shined through.  ->  negative\n",
            "this was certainly a movie  ->  negative\n",
            "Two thumbs up  ->  positive\n",
            "I fell asleep halfway through  ->  negative\n",
            "We can't wait for the sequel!!  ->  negative\n",
            "I can recommend this highly enough  ->  positive\n",
            "instant classic.  ->  positive\n",
            "Steven Seagal was amazing. His perfomance was Oscar-worthy.  ->  positive\n",
            "I love it  ->  positive\n"
          ],
          "name": "stdout"
        }
      ]
    },
    {
      "cell_type": "code",
      "metadata": {
        "id": "fozLIeVVzR6y",
        "colab_type": "code",
        "colab": {}
      },
      "source": [
        ""
      ],
      "execution_count": 0,
      "outputs": []
    }
  ]
}