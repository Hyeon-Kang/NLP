{
 "cells": [
  {
   "cell_type": "code",
   "execution_count": 1,
   "metadata": {},
   "outputs": [],
   "source": [
    "from sklearn.datasets import fetch_openml # Scikit-learn에서 제공하는 dataset이 모여있는 라이브러리\n",
    "from sklearn.neural_network import MLPClassifier # DNN 모델 라이브러리\n",
    "from sklearn.model_selection import train_test_split # train, test set을 구분하는 라이브러리\n"
   ]
  },
  {
   "cell_type": "code",
   "execution_count": 2,
   "metadata": {},
   "outputs": [
    {
     "name": "stdout",
     "output_type": "stream",
     "text": [
      "MNIST Data Downloading\n",
      "Success\n"
     ]
    }
   ],
   "source": [
    "\n",
    "print(\"MNIST Data Downloading\")\n",
    "X, y = fetch_openml('mnist_784', version =1, return_X_y=True) # 2개의 변수에 image, label을 따로 저장 (X : image, y : label)\n",
    "print(\"Success\")\n",
    "# fetch_openml 라이브러리에서 MNIST 28 X 28 의 픽셀을 가지는 데이터를 불러옴\n",
    "# test_size =0.2 >> train : test = 8 : 2 (하나의 데이터셋에서 학습용, 검증용 구분)\n",
    "# random_state\n"
   ]
  },
  {
   "cell_type": "code",
   "execution_count": 3,
   "metadata": {},
   "outputs": [],
   "source": [
    "\n",
    "X_train, X_test, y_train, y_test = train_test_split(X, y, test_size=0.2, random_state=17)\n"
   ]
  },
  {
   "cell_type": "code",
   "execution_count": 4,
   "metadata": {},
   "outputs": [],
   "source": [
    "\n",
    "nn = MLPClassifier(hidden_layer_sizes=(128,128), max_iter=20, solver='sgd', learning_rate_init=0.001, verbose=True)\n",
    "# 128,128,128,128 hidden layer shape, optimizer ; stochastic gradient descent\n",
    "\n",
    "# MLPClassifier : MLP 레이어 선언\n",
    "# hidden_layer_sizes : 128 > 128 > 128 > 128 > 10 레이어별 퍼셉트론 숫자\n",
    "# solver = gradient descent optimizer 알고리즘 기입 (layer의 weigh[가중치]를 적정치로 조절해주는 알고리즘)\n",
    "# learning_rate_init = 학습률\n"
   ]
  },
  {
   "cell_type": "code",
   "execution_count": 5,
   "metadata": {},
   "outputs": [
    {
     "name": "stdout",
     "output_type": "stream",
     "text": [
      "Iteration 1, loss = inf\n",
      "Iteration 2, loss = 1.40733131\n",
      "Iteration 3, loss = 1.31376283\n",
      "Iteration 4, loss = 1.12435776\n",
      "Iteration 5, loss = 0.99592189\n",
      "Iteration 6, loss = 0.84608509\n",
      "Iteration 7, loss = 0.74098413\n",
      "Iteration 8, loss = 0.71207278\n",
      "Iteration 9, loss = 0.61246078\n",
      "Iteration 10, loss = 0.56642933\n",
      "Iteration 11, loss = 0.54244547\n",
      "Iteration 12, loss = 0.50130129\n",
      "Iteration 13, loss = 0.47184951\n",
      "Iteration 14, loss = 0.44304527\n",
      "Iteration 15, loss = 0.41158169\n",
      "Iteration 16, loss = 0.39238759\n",
      "Iteration 17, loss = 0.36922459\n",
      "Iteration 18, loss = 0.35677703\n",
      "Iteration 19, loss = 0.34589083\n",
      "Iteration 20, loss = 0.33506154\n"
     ]
    },
    {
     "name": "stderr",
     "output_type": "stream",
     "text": [
      "c:\\python\\venv\\tensorflow\\lib\\site-packages\\sklearn\\neural_network\\multilayer_perceptron.py:566: ConvergenceWarning: Stochastic Optimizer: Maximum iterations (20) reached and the optimization hasn't converged yet.\n",
      "  % self.max_iter, ConvergenceWarning)\n"
     ]
    },
    {
     "name": "stdout",
     "output_type": "stream",
     "text": [
      "Network Performance : 0.907500\n"
     ]
    }
   ],
   "source": [
    "\n",
    "nn.fit(X_train, y_train)\n",
    "\n",
    "print('Network Performance : %f'%nn.score(X_test, y_test))\n"
   ]
  }
 ],
 "metadata": {
  "kernelspec": {
   "display_name": "Python 3",
   "language": "python",
   "name": "python3"
  },
  "language_info": {
   "codemirror_mode": {
    "name": "ipython",
    "version": 3
   },
   "file_extension": ".py",
   "mimetype": "text/x-python",
   "name": "python",
   "nbconvert_exporter": "python",
   "pygments_lexer": "ipython3",
   "version": "3.6.8"
  }
 },
 "nbformat": 4,
 "nbformat_minor": 4
}
