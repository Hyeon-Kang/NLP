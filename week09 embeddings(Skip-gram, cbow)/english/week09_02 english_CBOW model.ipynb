{
 "cells": [
  {
   "cell_type": "code",
   "execution_count": 1,
   "metadata": {},
   "outputs": [
    {
     "name": "stdout",
     "output_type": "stream",
     "text": [
      "Requirement already satisfied: gensim in c:\\python\\venv\\tensorflow\\lib\\site-packages (3.8.1)\n",
      "Requirement already satisfied: smart-open>=1.8.1 in c:\\python\\venv\\tensorflow\\lib\\site-packages (from gensim) (1.8.4)\n",
      "Requirement already satisfied: numpy>=1.11.3 in c:\\python\\venv\\tensorflow\\lib\\site-packages (from gensim) (1.17.1)\n",
      "Requirement already satisfied: scipy>=0.18.1 in c:\\python\\venv\\tensorflow\\lib\\site-packages (from gensim) (1.3.1)\n",
      "Requirement already satisfied: six>=1.5.0 in c:\\python\\venv\\tensorflow\\lib\\site-packages (from gensim) (1.12.0)\n",
      "Requirement already satisfied: boto>=2.32 in c:\\python\\venv\\tensorflow\\lib\\site-packages (from smart-open>=1.8.1->gensim) (2.49.0)\n",
      "Requirement already satisfied: requests in c:\\python\\venv\\tensorflow\\lib\\site-packages (from smart-open>=1.8.1->gensim) (2.22.0)\n",
      "Requirement already satisfied: boto3 in c:\\python\\venv\\tensorflow\\lib\\site-packages (from smart-open>=1.8.1->gensim) (1.10.1)\n",
      "Requirement already satisfied: urllib3!=1.25.0,!=1.25.1,<1.26,>=1.21.1 in c:\\python\\venv\\tensorflow\\lib\\site-packages (from requests->smart-open>=1.8.1->gensim) (1.25.6)\n",
      "Requirement already satisfied: chardet<3.1.0,>=3.0.2 in c:\\python\\venv\\tensorflow\\lib\\site-packages (from requests->smart-open>=1.8.1->gensim) (3.0.4)\n",
      "Requirement already satisfied: certifi>=2017.4.17 in c:\\python\\venv\\tensorflow\\lib\\site-packages (from requests->smart-open>=1.8.1->gensim) (2019.9.11)\n",
      "Requirement already satisfied: idna<2.9,>=2.5 in c:\\python\\venv\\tensorflow\\lib\\site-packages (from requests->smart-open>=1.8.1->gensim) (2.8)\n",
      "Requirement already satisfied: jmespath<1.0.0,>=0.7.1 in c:\\python\\venv\\tensorflow\\lib\\site-packages (from boto3->smart-open>=1.8.1->gensim) (0.9.4)\n",
      "Requirement already satisfied: s3transfer<0.3.0,>=0.2.0 in c:\\python\\venv\\tensorflow\\lib\\site-packages (from boto3->smart-open>=1.8.1->gensim) (0.2.1)\n",
      "Requirement already satisfied: botocore<1.14.0,>=1.13.1 in c:\\python\\venv\\tensorflow\\lib\\site-packages (from boto3->smart-open>=1.8.1->gensim) (1.13.1)\n",
      "Requirement already satisfied: python-dateutil<3.0.0,>=2.1; python_version >= \"2.7\" in c:\\python\\venv\\tensorflow\\lib\\site-packages (from botocore<1.14.0,>=1.13.1->boto3->smart-open>=1.8.1->gensim) (2.8.0)\n",
      "Requirement already satisfied: docutils<0.16,>=0.10 in c:\\python\\venv\\tensorflow\\lib\\site-packages (from botocore<1.14.0,>=1.13.1->boto3->smart-open>=1.8.1->gensim) (0.15.2)\n"
     ]
    },
    {
     "name": "stderr",
     "output_type": "stream",
     "text": [
      "WARNING: You are using pip version 19.2.3, however version 19.3.1 is available.\n",
      "You should consider upgrading via the 'python -m pip install --upgrade pip' command.\n"
     ]
    }
   ],
   "source": [
    "!pip install gensim"
   ]
  },
  {
   "cell_type": "code",
   "execution_count": 2,
   "metadata": {},
   "outputs": [
    {
     "name": "stderr",
     "output_type": "stream",
     "text": [
      "[nltk_data] Downloading package movie_reviews to\n",
      "[nltk_data]     C:\\Users\\Hyeon\\AppData\\Roaming\\nltk_data...\n",
      "[nltk_data]   Package movie_reviews is already up-to-date!\n"
     ]
    },
    {
     "data": {
      "text/plain": [
       "True"
      ]
     },
     "execution_count": 2,
     "metadata": {},
     "output_type": "execute_result"
    }
   ],
   "source": [
    "import nltk\n",
    "nltk.download('movie_reviews')"
   ]
  },
  {
   "cell_type": "code",
   "execution_count": 3,
   "metadata": {},
   "outputs": [],
   "source": [
    "from nltk.corpus import movie_reviews\n",
    "\n",
    "sentences = []\n",
    "\n",
    "for i in movie_reviews.sents():\n",
    "        words = [w.lower() for w in i if w >= 'A' and w <= 'z']\n",
    "        sentences.append(words)"
   ]
  },
  {
   "cell_type": "code",
   "execution_count": 4,
   "metadata": {},
   "outputs": [
    {
     "name": "stdout",
     "output_type": "stream",
     "text": [
      "[['plot', 'two', 'teen', 'couples', 'go', 'to', 'a', 'church', 'party', 'drink', 'and', 'then', 'drive'], ['they', 'get', 'into', 'an', 'accident'], ['one', 'of', 'the', 'guys', 'dies', 'but', 'his', 'girlfriend', 'continues', 'to', 'see', 'him', 'in', 'her', 'life', 'and', 'has', 'nightmares'], ['what', 's', 'the', 'deal'], ['watch', 'the', 'movie', 'and', 'sorta', 'find', 'out']]\n"
     ]
    }
   ],
   "source": [
    "print(sentences[:5])"
   ]
  },
  {
   "cell_type": "code",
   "execution_count": 5,
   "metadata": {},
   "outputs": [],
   "source": [
    "from gensim.models.word2vec import Word2Vec\n",
    "\n",
    "cbow_model = Word2Vec(sentences, min_count =1, size =100, window = 5, sg = 0) # sg 값에 0이면 cbow, 1이면 skip-gram"
   ]
  },
  {
   "cell_type": "code",
   "execution_count": 6,
   "metadata": {},
   "outputs": [
    {
     "name": "stdout",
     "output_type": "stream",
     "text": [
      "bot ,  girl  :  0.25634605\n",
      "king ,  queen  :  0.9049561\n",
      "like ,  love  :  0.27620706\n",
      "dog ,  cat  :  0.8818051\n",
      "phone ,  computer  :  0.46641064\n",
      "singing ,  sing  :  0.88729024\n"
     ]
    },
    {
     "name": "stderr",
     "output_type": "stream",
     "text": [
      "c:\\python\\venv\\tensorflow\\lib\\site-packages\\ipykernel_launcher.py:5: DeprecationWarning: Call to deprecated `similarity` (Method will be removed in 4.0.0, use self.wv.similarity() instead).\n",
      "  \"\"\"\n"
     ]
    }
   ],
   "source": [
    "first_word = ['bot', 'king', 'like', 'dog', 'phone', 'singing']\n",
    "second_word = ['girl', 'queen', 'love', 'cat', 'computer', 'sing']\n",
    "\n",
    "for i in range(len(first_word)):\n",
    "    print(first_word[i], ', ', second_word[i], ' : ', cbow_model.similarity(first_word[i], second_word[i])) # 2 단어의 유사도 측정"
   ]
  },
  {
   "cell_type": "code",
   "execution_count": 7,
   "metadata": {},
   "outputs": [
    {
     "data": {
      "text/plain": [
       "[('girl', 0.9324847459793091),\n",
       " ('cop', 0.8613902926445007),\n",
       " ('jack', 0.8604567050933838),\n",
       " ('woman', 0.859585165977478),\n",
       " ('child', 0.853202223777771),\n",
       " ('man', 0.8409298658370972),\n",
       " ('kid', 0.8352735042572021),\n",
       " ('harry', 0.8337703347206116),\n",
       " ('secret', 0.8333411812782288),\n",
       " ('lady', 0.8296852111816406)]"
      ]
     },
     "execution_count": 7,
     "metadata": {},
     "output_type": "execute_result"
    }
   ],
   "source": [
    "cbow_model.wv.most_similar(\"boy\") # 입력한 단어와 다른 단어의 유사도 보기"
   ]
  },
  {
   "cell_type": "code",
   "execution_count": null,
   "metadata": {},
   "outputs": [],
   "source": []
  }
 ],
 "metadata": {
  "kernelspec": {
   "display_name": "Python 3",
   "language": "python",
   "name": "python3"
  },
  "language_info": {
   "codemirror_mode": {
    "name": "ipython",
    "version": 3
   },
   "file_extension": ".py",
   "mimetype": "text/x-python",
   "name": "python",
   "nbconvert_exporter": "python",
   "pygments_lexer": "ipython3",
   "version": "3.6.8"
  }
 },
 "nbformat": 4,
 "nbformat_minor": 4
}
