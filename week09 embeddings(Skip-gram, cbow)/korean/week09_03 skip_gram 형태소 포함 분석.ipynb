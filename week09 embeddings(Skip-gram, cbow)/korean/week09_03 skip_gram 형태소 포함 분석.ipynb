{
 "cells": [
  {
   "cell_type": "code",
   "execution_count": 1,
   "metadata": {},
   "outputs": [
    {
     "name": "stdout",
     "output_type": "stream",
     "text": [
      "Requirement already satisfied: konlpy in c:\\python\\venv\\tensorflow\\lib\\site-packages (0.5.1)\n",
      "Requirement already satisfied: JPype1>=0.5.7 in c:\\python\\venv\\tensorflow\\lib\\site-packages (from konlpy) (0.7.0)\n"
     ]
    },
    {
     "name": "stderr",
     "output_type": "stream",
     "text": [
      "WARNING: You are using pip version 19.2.3, however version 19.3.1 is available.\n",
      "You should consider upgrading via the 'python -m pip install --upgrade pip' command.\n"
     ]
    }
   ],
   "source": [
    "!pip install konlpy"
   ]
  },
  {
   "cell_type": "code",
   "execution_count": 1,
   "metadata": {},
   "outputs": [
    {
     "name": "stderr",
     "output_type": "stream",
     "text": [
      "c:\\python\\venv\\tensorflow\\lib\\site-packages\\jpype\\_core.py:210: UserWarning: \n",
      "-------------------------------------------------------------------------------\n",
      "Deprecated: convertStrings was not specified when starting the JVM. The default\n",
      "behavior in JPype will be False starting in JPype 0.8. The recommended setting\n",
      "for new code is convertStrings=False.  The legacy value of True was assumed for\n",
      "this session. If you are a user of an application that reported this warning,\n",
      "please file a ticket with the developer.\n",
      "-------------------------------------------------------------------------------\n",
      "\n",
      "  \"\"\")\n"
     ]
    }
   ],
   "source": [
    "from konlpy.tag import Okt\n",
    "okt= Okt() # 형태소 분석을 위한 함수\n",
    "\n",
    "file = open('./ratings_train.txt', 'r', encoding = 'utf-8-sig')\n",
    "\n",
    "sentences = []\n",
    "\n",
    "for idx, line in enumerate(file):\n",
    "    if idx == 0:\n",
    "        continue# 첫 줄은 머릿글이 있으므로 제외\n",
    "    line = line.split('\\t')[1] # '\\t' 단위로 구분되어 있음, [0]id, [1]document(리뷰), [2]label data\n",
    "    sentences.append(line)"
   ]
  },
  {
   "cell_type": "code",
   "execution_count": 2,
   "metadata": {},
   "outputs": [],
   "source": [
    "sentences_pos = []\n",
    "\n",
    "for line in sentences:\n",
    "    sentences_pos.append(okt.pos(line))"
   ]
  },
  {
   "cell_type": "code",
   "execution_count": 10,
   "metadata": {},
   "outputs": [
    {
     "name": "stdout",
     "output_type": "stream",
     "text": [
      "[[('아', 'Exclamation'), ('더빙', 'Noun'), ('..', 'Punctuation'), ('진짜', 'Noun'), ('짜증나네요', 'Adjective'), ('목소리', 'Noun')], [('흠', 'Noun'), ('...', 'Punctuation'), ('포스터', 'Noun'), ('보고', 'Noun'), ('초딩', 'Noun'), ('영화', 'Noun'), ('줄', 'Noun'), ('....', 'Punctuation'), ('오버', 'Noun'), ('연기', 'Noun'), ('조차', 'Josa'), ('가볍지', 'Adjective'), ('않구나', 'Verb')]]\n"
     ]
    }
   ],
   "source": [
    "print(sentences_pos[:2])"
   ]
  },
  {
   "cell_type": "code",
   "execution_count": 19,
   "metadata": {},
   "outputs": [],
   "source": [
    "def tokenize(data):\n",
    "\n",
    "    word_pos = []\n",
    "    for a in range(len(sentences_pos)):\n",
    "        for b in range(len(sentences_pos[a])):\n",
    "            temp =[]\n",
    "            temp.append(sentences_pos[a][b][0]+'/'+sentences_pos[a][b][1])\n",
    "            word_pos.append(temp)\n",
    "    return word_pos"
   ]
  },
  {
   "cell_type": "code",
   "execution_count": 20,
   "metadata": {},
   "outputs": [],
   "source": [
    "sentences_pos_data = tokenize(sentences_pos)"
   ]
  },
  {
   "cell_type": "code",
   "execution_count": 21,
   "metadata": {},
   "outputs": [
    {
     "name": "stdout",
     "output_type": "stream",
     "text": [
      "[['아/Exclamation'], ['더빙/Noun']]\n"
     ]
    }
   ],
   "source": [
    "print(sentences_pos_data[:2])"
   ]
  },
  {
   "cell_type": "code",
   "execution_count": 22,
   "metadata": {},
   "outputs": [],
   "source": [
    "from gensim.models.word2vec import Word2Vec\n",
    "\n",
    "skip_model = Word2Vec(sentences_pos_data, min_count=1, size =100, window=5, sg = 1)"
   ]
  },
  {
   "cell_type": "code",
   "execution_count": 23,
   "metadata": {},
   "outputs": [
    {
     "data": {
      "text/plain": [
       "[('지미/Noun', 0.4556508958339691),\n",
       " ('미친거다/Adjective', 0.4392806589603424),\n",
       " ('나왔다는건/Verb', 0.4218056797981262),\n",
       " ('적의/Noun', 0.4091874659061432),\n",
       " ('왕보/Noun', 0.3828149437904358),\n",
       " ('엓스맨/Noun', 0.3823884129524231),\n",
       " ('주입/Noun', 0.37877199053764343),\n",
       " ('Das/Alpha', 0.374940425157547),\n",
       " ('급속/Noun', 0.3748747706413269),\n",
       " ('Ps/Alpha', 0.3719431757926941)]"
      ]
     },
     "execution_count": 23,
     "metadata": {},
     "output_type": "execute_result"
    }
   ],
   "source": [
    "skip_model.wv.most_similar(\"아빠/Noun\")"
   ]
  },
  {
   "cell_type": "code",
   "execution_count": null,
   "metadata": {},
   "outputs": [],
   "source": []
  }
 ],
 "metadata": {
  "kernelspec": {
   "display_name": "Python 3",
   "language": "python",
   "name": "python3"
  },
  "language_info": {
   "codemirror_mode": {
    "name": "ipython",
    "version": 3
   },
   "file_extension": ".py",
   "mimetype": "text/x-python",
   "name": "python",
   "nbconvert_exporter": "python",
   "pygments_lexer": "ipython3",
   "version": "3.6.8"
  }
 },
 "nbformat": 4,
 "nbformat_minor": 4
}
